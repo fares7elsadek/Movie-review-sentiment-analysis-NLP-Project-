{
 "cells": [
  {
   "cell_type": "code",
   "execution_count": 1,
   "id": "1e86b393",
   "metadata": {},
   "outputs": [],
   "source": [
    "import os\n",
    "import matplotlib.pyplot as plt\n",
    "import numpy as np\n",
    "import pandas as pd\n",
    "import seaborn as sns\n",
    "import re\n",
    "import nltk\n",
    "from nltk.tokenize import word_tokenize\n",
    "from nltk.corpus import stopwords\n",
    "from nltk.stem.wordnet import WordNetLemmatizer\n",
    "from nltk.stem import PorterStemmer\n",
    "\n",
    "# nltk.download('stopwords')\n",
    "# nltk.download('wordnet')\n",
    "# nltk.download('punkt')"
   ]
  },
  {
   "cell_type": "code",
   "execution_count": 2,
   "id": "b98c1700",
   "metadata": {},
   "outputs": [],
   "source": [
    "script_dir = os.getcwd() \n",
    "rel_path = 'txt_sentoken\\\\'\n",
    "data_path = os.path.join(script_dir, rel_path)"
   ]
  },
  {
   "cell_type": "code",
   "execution_count": 3,
   "id": "6be2e1d5",
   "metadata": {},
   "outputs": [],
   "source": [
    "positive_reviews = []\n",
    "negative_reviews = []\n",
    "\n",
    "for data_class in os.listdir(data_path):\n",
    "  for review in os.listdir(os.path.join(data_path, data_class)):\n",
    "    with open(os.path.join(data_path, data_class, review)) as f:\n",
    "      review_content = f.read().replace('\\n', '')\n",
    "\n",
    "      if data_class == 'pos':\n",
    "        positive_reviews.append(review_content)\n",
    "      elif data_class == 'neg':\n",
    "        negative_reviews.append(review_content)"
   ]
  },
  {
   "cell_type": "code",
   "execution_count": 4,
   "id": "1064ac0f",
   "metadata": {},
   "outputs": [
    {
     "name": "stdout",
     "output_type": "stream",
     "text": [
      "Positive Review Sample\n",
      "films adapted from comic books have had plenty of success , whether they're about superheroes ( batman , superman , spawn ) , or geared toward kids ( casper ) or the arthouse crowd ( ghost world ) , but there's never really been a comic book like from hell before . for starters , it was created by alan moore ( and eddie campbell ) , who brought the medium to a whole new level in the mid '80s with a 12-part series called the watchmen . to say moore and campbell thoroughly researched the subject of jack the ripper would be like saying michael jackson is starting to look a little odd . the book ( or \" graphic novel , \" if you will ) is over 500 pages long and includes nearly 30 more that consist of nothing but footnotes . in other words , don't dismiss this film because of its source . if you can get past the whole comic book thing , you might find another stumbling block in from hell's directors , albert and allen hughes . getting the hughes brothers to direct this seems almost as ludicrous as casting carrot top in , well , anything , but riddle me this : who better to direct a film that's set in the ghetto and features really violent street crime than the mad geniuses behind menace ii society ? the ghetto in question is , of course , whitechapel in 1888 london's east end . it's a filthy , sooty place where the whores ( called \" unfortunates \" ) are starting to get a little nervous about this mysterious psychopath who has been carving through their profession with surgical precision . when the first stiff turns up , copper peter godley ( robbie coltrane , the world is not enough ) calls in inspector frederick abberline ( johnny depp , blow ) to crack the case . abberline , a widower , has prophetic dreams he unsuccessfully tries to quell with copious amounts of absinthe and opium . upon arriving in whitechapel , he befriends an unfortunate named mary kelly ( heather graham , say it isn't so ) and proceeds to investigate the horribly gruesome crimes that even the police surgeon can't stomach . i don't think anyone needs to be briefed on jack the ripper , so i won't go into the particulars here , other than to say moore and campbell have a unique and interesting theory about both the identity of the killer and the reasons he chooses to slay . in the comic , they don't bother cloaking the identity of the ripper , but screenwriters terry hayes ( vertical limit ) and rafael yglesias ( les mis ? rables ) do a good job of keeping him hidden from viewers until the very end . it's funny to watch the locals blindly point the finger of blame at jews and indians because , after all , an englishman could never be capable of committing such ghastly acts . and from hell's ending had me whistling the stonecutters song from the simpsons for days ( \" who holds back the electric car/who made steve guttenberg a star ? \" ) . don't worry - it'll all make sense when you see it . now onto from hell's appearance : it's certainly dark and bleak enough , and it's surprising to see how much more it looks like a tim burton film than planet of the apes did ( at times , it seems like sleepy hollow 2 ) . the print i saw wasn't completely finished ( both color and music had not been finalized , so no comments about marilyn manson ) , but cinematographer peter deming ( don't say a word ) ably captures the dreariness of victorian-era london and helped make the flashy killing scenes remind me of the crazy flashbacks in twin peaks , even though the violence in the film pales in comparison to that in the black-and-white comic . oscar winner martin childs' ( shakespeare in love ) production design turns the original prague surroundings into one creepy place . even the acting in from hell is solid , with the dreamy depp turning in a typically strong performance and deftly handling a british accent . ians holm ( joe gould's secret ) and richardson ( 102 dalmatians ) log in great supporting roles , but the big surprise here is graham . i cringed the first time she opened her mouth , imagining her attempt at an irish accent , but it actually wasn't half bad . the film , however , is all good . 2 : 00 - r for strong violence/gore , sexuality , language and drug content \n"
     ]
    }
   ],
   "source": [
    "print('Positive Review Sample')\n",
    "print(positive_reviews[0])"
   ]
  },
  {
   "cell_type": "code",
   "execution_count": 5,
   "id": "9dc52674",
   "metadata": {},
   "outputs": [
    {
     "name": "stdout",
     "output_type": "stream",
     "text": [
      "Negative Review Sample\n",
      "plot : two teen couples go to a church party , drink and then drive . they get into an accident . one of the guys dies , but his girlfriend continues to see him in her life , and has nightmares . what's the deal ? watch the movie and \" sorta \" find out . . . critique : a mind-fuck movie for the teen generation that touches on a very cool idea , but presents it in a very bad package . which is what makes this review an even harder one to write , since i generally applaud films which attempt to break the mold , mess with your head and such ( lost highway & memento ) , but there are good and bad ways of making all types of films , and these folks just didn't snag this one correctly . they seem to have taken this pretty neat concept , but executed it terribly . so what are the problems with the movie ? well , its main problem is that it's simply too jumbled . it starts off \" normal \" but then downshifts into this \" fantasy \" world in which you , as an audience member , have no idea what's going on . there are dreams , there are characters coming back from the dead , there are others who look like the dead , there are strange apparitions , there are disappearances , there are a looooot of chase scenes , there are tons of weird things that happen , and most of it is simply not explained . now i personally don't mind trying to unravel a film every now and then , but when all it does is give me the same clue over and over again , i get kind of fed up after a while , which is this film's biggest problem . it's obviously got this big secret to hide , but it seems to want to hide it completely until its final five minutes . and do they make things entertaining , thrilling or even engaging , in the meantime ? not really . the sad part is that the arrow and i both dig on flicks like this , so we actually figured most of it out by the half-way point , so all of the strangeness after that did start to make a little bit of sense , but it still didn't the make the film all that more entertaining . i guess the bottom line with movies like this is that you should always make sure that the audience is \" into it \" even before they are given the secret password to enter your world of understanding . i mean , showing melissa sagemiller running away from visions for about 20 minutes throughout the movie is just plain lazy ! ! okay , we get it . . . there are people chasing her and we don't know who they are . do we really need to see it over and over again ? how about giving us different scenes offering further insight into all of the strangeness going down in the movie ? apparently , the studio took this film away from its director and chopped it up themselves , and it shows . there might've been a pretty decent teen mind-fuck movie in here somewhere , but i guess \" the suits \" decided that turning it into a music video with little edge , would make more sense . the actors are pretty good for the most part , although wes bentley just seemed to be playing the exact same character that he did in american beauty , only in a new neighborhood . but my biggest kudos go out to sagemiller , who holds her own throughout the entire film , and actually has you feeling her character's unraveling . overall , the film doesn't stick because it doesn't entertain , it's confusing , it rarely excites and it feels pretty redundant for most of its runtime , despite a pretty cool ending and explanation to all of the craziness that came before it . oh , and by the way , this is not a horror or teen slasher flick . . . it's just packaged to look that way because someone is apparently assuming that the genre is still hot with the kids . it also wrapped production two years ago and has been sitting on the shelves ever since . whatever . . . skip it ! where's joblo coming from ? a nightmare of elm street 3 ( 7/10 ) - blair witch 2 ( 7/10 ) - the crow ( 9/10 ) - the crow : salvation ( 4/10 ) - lost highway ( 10/10 ) - memento ( 10/10 ) - the others ( 9/10 ) - stir of echoes ( 8/10 ) \n"
     ]
    }
   ],
   "source": [
    "print('Negative Review Sample')\n",
    "print(negative_reviews[0])"
   ]
  },
  {
   "cell_type": "code",
   "execution_count": 6,
   "id": "6b42adc6",
   "metadata": {},
   "outputs": [
    {
     "data": {
      "text/plain": [
       "<function matplotlib.pyplot.show(close=None, block=None)>"
      ]
     },
     "execution_count": 6,
     "metadata": {},
     "output_type": "execute_result"
    },
    {
     "data": {
      "image/png": "[encoded data removed]",
      "text/plain": [
       "<Figure size 640x480 with 1 Axes>"
      ]
     },
     "metadata": {},
     "output_type": "display_data"
    }
   ],
   "source": [
    "data_distribution = [len(positive_reviews),len(negative_reviews)]\n",
    "labels = ['Positive','Negative']\n",
    "plt.pie(data_distribution,labels = labels)\n",
    "plt.show"
   ]
  },
  {
   "cell_type": "code",
   "execution_count": 7,
   "id": "ebd9563b",
   "metadata": {},
   "outputs": [],
   "source": [
    "def tokenize_reviews(reviews):\n",
    "    tokens = []\n",
    "    for review in reviews:\n",
    "        tokens.append(word_tokenize(review))\n",
    "    return tokens"
   ]
  },
  {
   "cell_type": "code",
   "execution_count": 8,
   "id": "b041d513",
   "metadata": {},
   "outputs": [],
   "source": [
    "def remove_stop_words(tokens):\n",
    "    stopwords = nltk.corpus.stopwords.words('english')\n",
    "    filtered_tokens = []\n",
    "    for word in tokens:\n",
    "        if word not in stopwords:\n",
    "            filtered_tokens.append(word)\n",
    "    return filtered_tokens"
   ]
  },
  {
   "cell_type": "code",
   "execution_count": 9,
   "id": "e873fe41",
   "metadata": {},
   "outputs": [],
   "source": [
    "def stemming(filtered_tokens):\n",
    "    stemmed_tokens = []\n",
    "    for token in filtered_tokens:\n",
    "        stemmed_tokens.append(PorterStemmer().stem(token))\n",
    "    return stemmed_tokens"
   ]
  },
  {
   "cell_type": "code",
   "execution_count": 10,
   "id": "71f63181",
   "metadata": {},
   "outputs": [],
   "source": [
    "def lemmatize_tokens(filtered_tokens):\n",
    "    tokens = []\n",
    "    lemmatizer = WordNetLemmatizer()\n",
    "    for token in filtered_tokens:\n",
    "          tokens.append(lemmatizer.lemmatize(token))\n",
    "    return tokens"
   ]
  },
  {
   "cell_type": "code",
   "execution_count": 11,
   "id": "1fe756f2",
   "metadata": {},
   "outputs": [],
   "source": [
    "def join_string(tokens):\n",
    "    return ' '.join(tokens)"
   ]
  },
  {
   "cell_type": "code",
   "execution_count": 12,
   "id": "5167a5b0",
   "metadata": {},
   "outputs": [],
   "source": [
    "def preprocess(reviews):\n",
    "    reviews = [re.sub(r\"[^a-zA-Z0-9\\s]+\", \"\", review) for review in reviews]\n",
    "    reviews = tokenize_reviews(reviews)\n",
    "    reviews = [lemmatize_tokens(review) for review in reviews]\n",
    "#     reviews = [stemming(review) for review in reviews]\n",
    "    reviews = [remove_stop_words(review) for review in reviews]\n",
    "    reviews = [join_string(review) for review in reviews]\n",
    "    return reviews"
   ]
  },
  {
   "cell_type": "code",
   "execution_count": 13,
   "id": "74de9c7b",
   "metadata": {},
   "outputs": [],
   "source": [
    "positive_reviews = preprocess(positive_reviews)\n",
    "negative_reviews = preprocess(negative_reviews)"
   ]
  },
  {
   "cell_type": "code",
   "execution_count": 14,
   "id": "9cb6d167",
   "metadata": {},
   "outputs": [
    {
     "name": "stdout",
     "output_type": "stream",
     "text": [
      "                                                reviews  sentiment\n",
      "0     film adapted comic book plenty success whether...          1\n",
      "1     every movie come along suspect studio every in...          1\n",
      "2     youve got mail work alot better deserves order...          1\n",
      "3     jaw rare film grab attention show single image...          1\n",
      "4     moviemaking lot like general manager nfl team ...          1\n",
      "...                                                 ...        ...\n",
      "1995  anything stigma taken warning releasing simila...          0\n",
      "1996  john boormans zardoz goofy cinematic debacle f...          0\n",
      "1997  kid hall acquired taste took least season watc...          0\n",
      "1998  wa time john carpenter wa great horror directo...          0\n",
      "1999  two party guy bob head haddaways dance hit lov...          0\n",
      "\n",
      "[2000 rows x 2 columns]\n"
     ]
    }
   ],
   "source": [
    "movies_reviews = positive_reviews + negative_reviews\n",
    "reviews_classes = np.append(np.ones(1000, dtype=int), np.zeros(1000, dtype=int))\n",
    "\n",
    "data = {'reviews': movies_reviews, 'sentiment': reviews_classes} # 1 for positive, 0 for negative\n",
    "df = pd.DataFrame(data)\n",
    "print(df)"
   ]
  },
  {
   "cell_type": "code",
   "execution_count": 15,
   "id": "8330dfda",
   "metadata": {},
   "outputs": [
    {
     "name": "stdout",
     "output_type": "stream",
     "text": [
      "Sample Preprocessed Review: \n",
      "film adapted comic book plenty success whether theyre superheroes batman superman spawn geared toward kid casper arthouse crowd ghost world never really comic book like hell starter wa created alan moore eddie campbell brought medium whole new level mid 80 12part series called watchman say moore campbell thoroughly researched subject jack ripper would like saying michael jackson starting look little odd book graphic novel 500 page long includes nearly 30 consist nothing footnote word dont dismiss film source get past whole comic book thing might find another stumbling block hell director albert allen hughes getting hughes brother direct seems almost ludicrous casting carrot top well anything riddle better direct film thats set ghetto feature really violent street crime mad genius behind menace ii society ghetto question course whitechapel 1888 london east end filthy sooty place whore called unfortunate starting get little nervous mysterious psychopath ha carving profession surgical precision first stiff turn copper peter godley robbie coltrane world enough call inspector frederick abberline johnny depp blow crack case abberline widower ha prophetic dream unsuccessfully try quell copious amount absinthe opium upon arriving whitechapel befriends unfortunate named mary kelly heather graham say isnt proceeds investigate horribly gruesome crime even police surgeon cant stomach dont think anyone need briefed jack ripper wont go particular say moore campbell unique interesting theory identity killer reason chooses slay comic dont bother cloaking identity ripper screenwriter terry hayes vertical limit rafael yglesias le mi rables good job keeping hidden viewer end funny watch local blindly point finger blame jew indian englishman could never capable committing ghastly act hell ending whistling stonecutter song simpson day hold back electric carwho made steve guttenberg star dont worry itll make sense see onto hell appearance certainly dark bleak enough surprising see much look like tim burton film planet ape time seems like sleepy hollow 2 print saw wasnt completely finished color music finalized comment marilyn manson cinematographer peter deming dont say word ably capture dreariness victorianera london helped make flashy killing scene remind crazy flashback twin peak even though violence film pale comparison blackandwhite comic oscar winner martin child shakespeare love production design turn original prague surroundings one creepy place even acting hell solid dreamy depp turning typically strong performance deftly handling british accent ians holm joe gould secret richardson 102 dalmatian log great supporting role big surprise graham cringed first time opened mouth imagining attempt irish accent actually wasnt half bad film however good 2 00 r strong violencegore sexuality language drug content\n"
     ]
    }
   ],
   "source": [
    "print('Sample Preprocessed Review: ')\n",
    "print(df['reviews'][0])"
   ]
  },
  {
   "cell_type": "code",
   "execution_count": 16,
   "id": "8d7d60eb",
   "metadata": {},
   "outputs": [],
   "source": [
    "x = df[\"reviews\"]\n",
    "y = df[\"sentiment\"]"
   ]
  },
  {
   "cell_type": "code",
   "execution_count": 17,
   "id": "9aa72bcb",
   "metadata": {},
   "outputs": [
    {
     "data": {
      "text/plain": [
       "(2000, 5000)"
      ]
     },
     "execution_count": 17,
     "metadata": {},
     "output_type": "execute_result"
    }
   ],
   "source": [
    "from sklearn.feature_extraction.text import TfidfVectorizer\n",
    "cv = TfidfVectorizer(max_features=5000)\n",
    "X = cv.fit_transform(movies_reviews).toarray()\n",
    "X.shape"
   ]
  },
  {
   "cell_type": "code",
   "execution_count": 18,
   "id": "151a7e59",
   "metadata": {},
   "outputs": [],
   "source": [
    "from sklearn.model_selection import train_test_split\n",
    "X_train, X_test, y_train, y_test = train_test_split(\n",
    "    X, \n",
    "    y, \n",
    "    test_size=0.2, # 20% \n",
    "    random_state=2022,\n",
    "    stratify=df.sentiment\n",
    ")"
   ]
  },
  {
   "cell_type": "markdown",
   "id": "e76e0777",
   "metadata": {},
   "source": [
    "Naive Bayes Classifier Model"
   ]
  },
  {
   "cell_type": "code",
   "execution_count": 19,
   "id": "1c4438f8",
   "metadata": {},
   "outputs": [
    {
     "name": "stdout",
     "output_type": "stream",
     "text": [
      "Accuracy: 0.8075\n",
      "              precision    recall  f1-score   support\n",
      "\n",
      "           0       0.77      0.88      0.82       200\n",
      "           1       0.86      0.74      0.79       200\n",
      "\n",
      "    accuracy                           0.81       400\n",
      "   macro avg       0.81      0.81      0.81       400\n",
      "weighted avg       0.81      0.81      0.81       400\n",
      "\n"
     ]
    }
   ],
   "source": [
    "from sklearn.naive_bayes import MultinomialNB\n",
    "from sklearn.metrics import accuracy_score, classification_report\n",
    "\n",
    "\n",
    "nb_classifier = MultinomialNB()\n",
    "\n",
    "\n",
    "nb_classifier.fit(X_train, y_train)\n",
    "\n",
    "\n",
    "y_pred = nb_classifier.predict(X_test)\n",
    "\n",
    "\n",
    "accuracy = accuracy_score(y_test, y_pred)\n",
    "print(\"Accuracy:\", accuracy)\n",
    "\n",
    "\n",
    "print(classification_report(y_test, y_pred))\n"
   ]
  },
  {
   "cell_type": "markdown",
   "id": "78589993",
   "metadata": {},
   "source": [
    "SVM Classifier Model"
   ]
  },
  {
   "cell_type": "code",
   "execution_count": 20,
   "id": "aa2091ce",
   "metadata": {},
   "outputs": [
    {
     "name": "stdout",
     "output_type": "stream",
     "text": [
      "Accuracy: 0.845\n",
      "              precision    recall  f1-score   support\n",
      "\n",
      "           0       0.77      0.88      0.82       200\n",
      "           1       0.86      0.74      0.79       200\n",
      "\n",
      "    accuracy                           0.81       400\n",
      "   macro avg       0.81      0.81      0.81       400\n",
      "weighted avg       0.81      0.81      0.81       400\n",
      "\n"
     ]
    }
   ],
   "source": [
    "from sklearn.svm import SVC\n",
    "from sklearn.metrics import accuracy_score, classification_report\n",
    "svm_classifier = SVC(kernel='linear', C=1.0)\n",
    "nb_classifier = MultinomialNB()\n",
    "svm_classifier.fit(X_train, y_train)\n",
    "y_pred2 = svm_classifier.predict(X_test)\n",
    "accuracy = accuracy_score(y_test, y_pred2)\n",
    "print(\"Accuracy:\", accuracy)\n",
    "print(classification_report(y_test, y_pred))"
   ]
  },
  {
   "cell_type": "code",
   "execution_count": 21,
   "id": "1a77041a",
   "metadata": {},
   "outputs": [],
   "source": [
    "def Test_Model(sentence):\n",
    "    sen = cv.transform([sentence]).toarray()\n",
    "    res = svm_classifier.predict(sen)[0]\n",
    "    if res ==0:\n",
    "        print(\"Negative Review\")\n",
    "    else:\n",
    "        print(\"Positive Review\")"
   ]
  },
  {
   "cell_type": "code",
   "execution_count": 22,
   "id": "58cf06b5",
   "metadata": {},
   "outputs": [
    {
     "name": "stdout",
     "output_type": "stream",
     "text": [
      "Sentence: This movie was amazing, I loved it!\n",
      "Positive Review\n",
      "\n",
      "Sentence: I didn't enjoy this movie, it was boring.\n",
      "Negative Review\n",
      "\n",
      "Sentence: The acting was superb, but the plot was lacking.\n",
      "Negative Review\n",
      "\n",
      "Sentence: I found the storyline intriguing and the characters engaging.\n",
      "Positive Review\n",
      "\n",
      "Sentence: The special effects were impressive, but the pacing felt off.\n",
      "Negative Review\n",
      "\n"
     ]
    }
   ],
   "source": [
    "test_data = [\n",
    "    (\"This movie was amazing, I loved it!\"),        # Positive\n",
    "    (\"I didn't enjoy this movie, it was boring.\"),  # Negative\n",
    "    (\"The acting was superb, but the plot was lacking.\"),  # Negative\n",
    "    (\"I found the storyline intriguing and the characters engaging.\"),  # Positive\n",
    "    (\"The special effects were impressive, but the pacing felt off.\"),  # Negative\n",
    "]\n",
    "\n",
    "\n",
    "for sentence in test_data:\n",
    "    print(\"Sentence:\", sentence)\n",
    "    Test_Model(sentence)\n",
    "    print()\n"
   ]
  },
  {
   "cell_type": "code",
   "execution_count": 23,
   "id": "7dd83ed3",
   "metadata": {},
   "outputs": [
    {
     "data": {
      "image/png": "[encoded data removed]",
      "text/plain": [
       "<Figure size 640x480 with 2 Axes>"
      ]
     },
     "metadata": {},
     "output_type": "display_data"
    }
   ],
   "source": [
    "from sklearn.metrics import confusion_matrix\n",
    "from sklearn.metrics import ConfusionMatrixDisplay\n",
    "\n",
    "conf_matrix = confusion_matrix(y_test, y_pred2)\n",
    "disp = ConfusionMatrixDisplay(confusion_matrix=conf_matrix)\n",
    "disp.plot()\n",
    "plt.show()"
   ]
  }
 ],
 "metadata": {
  "kernelspec": {
   "display_name": "Python 3 (ipykernel)",
   "language": "python",
   "name": "python3"
  },
  "language_info": {
   "codemirror_mode": {
    "name": "ipython",
    "version": 3
   },
   "file_extension": ".py",
   "mimetype": "text/x-python",
   "name": "python",
   "nbconvert_exporter": "python",
   "pygments_lexer": "ipython3",
   "version": "3.11.9"
  }
 },
 "nbformat": 4,
 "nbformat_minor": 5
}
